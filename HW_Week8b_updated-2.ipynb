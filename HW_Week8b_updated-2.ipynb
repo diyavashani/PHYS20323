{
 "cells": [
  {
   "cell_type": "markdown",
   "metadata": {},
   "source": [
    "# PHYS 20323/60323 Homework Week 8 (part 2)\n",
    "\n",
    "FALL 2022\n"
   ]
  },
  {
   "cell_type": "markdown",
   "metadata": {},
   "source": [
    "### 4) Altitude of a satellite (continued)\n",
    "\n",
    "A satellite is to be launched into a circular orbit around the Earth so that it orbits the planet once every T seconds.\n",
    "\n",
    "The altitude h above the Earth’s surface that the satellite must have is:\n",
    "\n",
    "$$h = \\left( \\frac{G M T^2}{4\\pi^2} \\right)^{1/3} - R$$\n",
    "\n",
    "where $G = 6.67 \\times 10^{-11}$ m$^3$ kg$^{-1}$ s$^{-2}$\n",
    "is Newton's gravitational constant, $M = 5.97 \\times 10^{24}$ kg is the mass of the Earth, and $R = 6371$ km is its radius.\n",
    "\n",
    "#### Write a program that asks the user to enter the desired value of T and then calculates and prints out the correct altitude in meters.\n"
   ]
  },
  {
   "cell_type": "code",
   "execution_count": 23,
   "metadata": {},
   "outputs": [
    {
     "name": "stdout",
     "output_type": "stream",
     "text": [
      "Input T Value in seconds: 10000\n",
      "Altitude from the surface of the earth is \n",
      "3657750.0977412015 m above the surface of the earth\n"
     ]
    }
   ],
   "source": [
    "import numpy as np\n",
    "\n",
    "T = float(input(\"Input T Value in seconds: \"))\n",
    "\n",
    "h = (((6.67*10**(-11)*(5.97*10**(24)*(T**(2)))/(4*(np.pi)**2))**(1/3)))-(6371*10**(3))\n",
    "\n",
    "print(\"Altitude from the surface of the earth is \")  \n",
    "\n",
    "if h> 0:\n",
    "    print(h,\"m above the surface of the earth\")\n",
    "else:\n",
    "    print(h*(-1),\"m under the surface of the earth\")\n",
    "\n"
   ]
  },
  {
   "cell_type": "markdown",
   "metadata": {},
   "source": [
    "#### Modify your code to calculate the times from 0.5 hour  to 30 days, in steps of 0.5 hours.   Then plot those data points (time vs h) with properly labled axes.  Plot orbits with height below 0 as red, and plots positive hieghts with times less than geosynchronous in blue and those longer in green."
   ]
  },
  {
   "cell_type": "code",
   "execution_count": 1,
   "metadata": {},
   "outputs": [
    {
     "data": {
      "text/plain": [
       "Text(0, 0.5, 'Height (m)')"
      ]
     },
     "execution_count": 1,
     "metadata": {},
     "output_type": "execute_result"
    },
    {
     "data": {
      "image/png": "[encoded data removed]",
      "text/plain": [
       "<Figure size 432x288 with 1 Axes>"
      ]
     },
     "metadata": {
      "needs_background": "light"
     },
     "output_type": "display_data"
    }
   ],
   "source": [
    "import numpy as np\n",
    "from pylab import plot,xlabel,ylabel,show\n",
    "Max_T = 30*24*60*60\n",
    "step = 0.5*60*60\n",
    "\n",
    "t = 0\n",
    "\n",
    "TimeArr = []\n",
    "heightArr = []\n",
    "\n",
    "while t < Max_T:\n",
    "    T = t\n",
    "    h = ((6.67*(10**(-11))*(5.97*10**24)*(T**2))/(4*np.pi**2))**(1/3)-6371000\n",
    "    \n",
    "    TimeArr.append(T)\n",
    "    heightArr.append(h)\n",
    "    \n",
    "    \n",
    "    t+=step\n",
    "\n",
    "\n",
    "plot(TimeArr,heightArr, c='blue')\n",
    "\n",
    "xlabel(\"Time (s)\")\n",
    "ylabel(\"Height (m)\")"
   ]
  },
  {
   "cell_type": "markdown",
   "metadata": {},
   "source": [
    "### 2) Planetary orbits\n",
    "\n",
    "The orbit in space of one body around another, such as a planet around the Sun, need not be circular. In general it takes the form of an ellipse, with the body sometimes closer in and sometimes further out. If you are given the distance $l_1$ of closest approach that a planet makes to the Sun, also called its perihelion, and its linear velocity $v_1$ at *perihelion*, then any other property of the orbit can be calculated from these two as follows.\n",
    "\n",
    "Kepler’s second law tells us that the distance $l_2$ and velocity $v_2$ of the planet at its most distant point, or *aphelion*, satisfy $l_2 v_2 = l_1 v_1$. \n",
    "\n",
    "Solve for $v_2$ using, where $M = 1.9891 \\times 10^{30}$ kg is the mass of the Sun, and G = $6.6738 \\times 10^{−11}$ m$^3$ kg$^{−1}$ s$^{−2}$ :\n",
    "\n",
    "$$ v_2^2 - \\frac{2 G M}{ v_1 l_1}  v_2 - \\left( v_1^2 - \\frac{2 G M}{ l_1} \\right) = 0 $$\n",
    "\n",
    "\n",
    "Given the values of $v_1$, $l_1$, and $l_2$, other parameters of the orbit are given by simple formulas can that be derived from Kepler’s laws and the fact that the orbit is an ellipse:\n",
    "\n",
    "Semi-Major Axis $$ a = \\frac{1}{2} (l_1 + l_2) $$ \n",
    "Semi-Minor Axis: $$ b = \\sqrt{l_1  l_2} $$ \n",
    "Orbital Period: $$ T = \\frac{2 \\pi a b}{l_1 v_1} $$ \n",
    "Orbital eccentricity:  $$ e = \\frac{l_2 - l_1}{l_2 + l_1}$$\n",
    "\n",
    "#### Write a program with functions that asks the user to enter the distance to the Sun and velocity at perihelion, then calculates and prints the quantities $l2$, $v2$, $a$, $b$, $T$, and $e$.\n",
    "\n"
   ]
  },
  {
   "cell_type": "code",
   "execution_count": 9,
   "metadata": {},
   "outputs": [
    {
     "name": "stdout",
     "output_type": "stream",
     "text": [
      "Distance to the Sun at Perihelion: 8.7830e10\n",
      "Velovity at Perihelion: 5.45294\n",
      "Velocity at aphelion 5.452939987182617 m/s\n",
      "Distance at aphelion 87830000206.4484 m\n",
      "Semi Major Axis: 87830000103.2242\n",
      "Semi Minor Axis: 87830000103.2242\n",
      "Orbital Period: 101202684575.06161\n",
      "Orbital eccentricity: 1.1752726547464275e-09\n"
     ]
    }
   ],
   "source": [
    "import math\n",
    "import numpy as np\n",
    "\n",
    "l1 = float(input(\"Distance to the Sun at Perihelion: \"))\n",
    "v1 = float(input(\"Velovity at Perihelion: \"))\n",
    "M = 1.9891 *10**(30)\n",
    "G = 6.6738*10**(-11)\n",
    "pi = np.pi \n",
    "\n",
    "a=1\n",
    "b=-((2*G*M)/(v1*l1))\n",
    "c=-((v1**(2))-((2*G*M)/l1))\n",
    "\n",
    "#finding the roots\n",
    "r1=(-b+math.sqrt(b**2-4*a*c))/2*a\n",
    "r2=(-b-math.sqrt(b**2-4*a*c))/2*a\n",
    "\n",
    "\n",
    "v2=r1 if r1<r2 else r2\n",
    "\n",
    "print (\"Velocity at aphelion\",v2,\"m/s\" )\n",
    "\n",
    "l2 = (l1 *v1)/v2\n",
    "print (\"Distance at aphelion\", l2, \"m\")\n",
    "\n",
    "s_ma = 0.5*(l1 + l2)\n",
    "s_mi = math.sqrt(l1*l2)\n",
    "T = ((2*pi*s_ma*s_mi)/(l1*v1))\n",
    "e = (l2-l1)/(l2+l1)\n",
    "\n",
    "print (\"Semi Major Axis:\", s_ma)\n",
    "print (\"Semi Minor Axis:\", s_mi)\n",
    "print (\"Orbital Period:\", T)\n",
    "print (\"Orbital eccentricity:\", e)"
   ]
  },
  {
   "cell_type": "markdown",
   "metadata": {},
   "source": [
    "#### Test your program by having it calculate the properties of the orbits of the Earth (for which $l_1 = 1.4710 \\times 10^{11}$ m and $v_1 = 3.0287 \\times 10^4$ m s$^{−1}$ ) and Halley’s comet ($l_1 = 8.7830 \\times 10^{10}$ m and $v_1 = 5.4529 \\times 10^4$ m s${−1}$ ). Among other things, you should find that the orbital period of the Earth is one year and that of Halley’s comet is about 76 years."
   ]
  },
  {
   "cell_type": "code",
   "execution_count": null,
   "metadata": {},
   "outputs": [],
   "source": [
    "# Orbital Period of Earth : 31543060.20788706 seconds = 1 year\n",
    "# Orbital Period of haylley's comet : 101202684575.06161 seconds  "
   ]
  }
 ],
 "metadata": {
  "kernelspec": {
   "display_name": "Python 3 (ipykernel)",
   "language": "python",
   "name": "python3"
  },
  "language_info": {
   "codemirror_mode": {
    "name": "ipython",
    "version": 3
   },
   "file_extension": ".py",
   "mimetype": "text/x-python",
   "name": "python",
   "nbconvert_exporter": "python",
   "pygments_lexer": "ipython3",
   "version": "3.9.12"
  }
 },
 "nbformat": 4,
 "nbformat_minor": 4
}
