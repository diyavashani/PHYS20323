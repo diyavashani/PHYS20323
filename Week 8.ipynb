{
 "cells": [
  {
   "cell_type": "markdown",
   "metadata": {},
   "source": [
    "# PHYS 20323/60323 Homework Week 8\n",
    "\n",
    "FALL 2022\n"
   ]
  },
  {
   "cell_type": "markdown",
   "metadata": {},
   "source": [
    "### 1) Altitude of a satellite\n",
    "\n",
    "A satellite is to be launched into a circular orbit around the Earth so that it orbits the planet once every T seconds.\n",
    "\n",
    "The altitude h above the Earth’s surface that the satellite must have is:\n",
    "\n",
    "$$h = \\left( \\frac{G M T^2}{4\\pi^2} \\right)^{1/3} - R$$\n",
    "\n",
    "where $G = 6.67 \\times 10^{-11}$ m$^3$ kg$^{-1}$ s$^{-2}$\n",
    "is Newton's gravitational constant, $M = 5.97 \\times 10^{24}$ kg is the mass of the Earth, and $R = 6371$ km is its radius.\n",
    "\n",
    "#### Write a program that asks the user to enter the desired value of T and then calculates and prints out the correct altitude in meters.\n"
   ]
  },
  {
   "cell_type": "code",
   "execution_count": 61,
   "metadata": {},
   "outputs": [
    {
     "name": "stdout",
     "output_type": "stream",
     "text": [
      "Input T Value in seconds: 100\n",
      "Altitude from the surface of the earth is \n",
      "5905506.655312314 m under the surface of the earth\n"
     ]
    }
   ],
   "source": [
    "import numpy as np\n",
    "\n",
    "T = float(input(\"Input T Value in seconds: \"))\n",
    "\n",
    "h = (((6.67*10**(-11)*(5.97*10**(24)*(T**(2)))/(4*(np.pi)**2))**(1/3)))-(6371*10**(3))\n",
    "\n",
    "print(\"Altitude from the surface of the earth is \")  \n",
    "\n",
    "if h> 0:\n",
    "    print(h,\"m above the surface of the earth\")\n",
    "else:\n",
    "    print(h*(-1),\"m under the surface of the earth\")\n"
   ]
  },
  {
   "cell_type": "markdown",
   "metadata": {},
   "source": [
    "Use your program to calculate the altitudes of satellites that orbit the Earth once\n",
    "a day (so-called “geosynchronous” orbit), once every 90 minutes, and once every\n",
    "45 minutes. What do you conclude from the last of these calculations?\n",
    "\n",
    "\n",
    "\n"
   ]
  },
  {
   "cell_type": "markdown",
   "metadata": {},
   "source": [
    "The altitude of the satellite every 90 minutes must be approximately 280 km above from the surface of the earth. However, the satelliete that orbits the earth every 45 minutes must be 2200 km under the surface of the earth which is impossible."
   ]
  },
  {
   "cell_type": "markdown",
   "metadata": {},
   "source": [
    "Technically a geosynchronous satellite is one that orbits the Earth once persidereal\n",
    "day, which is 23.93 hours, not 24 hours. Why is this? And how much difference\n",
    "will it make to the altitude of the satellite?"
   ]
  },
  {
   "cell_type": "code",
   "execution_count": 62,
   "metadata": {},
   "outputs": [
    {
     "name": "stdout",
     "output_type": "stream",
     "text": [
      "82147.84627933113 m\n"
     ]
    }
   ],
   "source": [
    "# 23.93 hours = Altitude from the surface of the earth is 35773.762329895646 km above the surface of the earth\n",
    "# 24 hours = Altitude from the surface of the earth is 35855.91017617498 km above the surface of the earth\n",
    "\n",
    "Dif= 35855.91017617498 - 35773.762329895646 # in KM\n",
    "Difference= Dif*1000\n",
    "print(Difference, \"m\")\n",
    "\n",
    "# the difference is og around 82 km which is a lot and hence using 23.93 hours instead of 24 hours... \n",
    "#does make a difference to the altitude of the satellite by exactly 82.14784627933113 km"
   ]
  },
  {
   "cell_type": "markdown",
   "metadata": {},
   "source": [
    "### 2) Special Relativity\n",
    "\n",
    "A spaceship travels from Earth in a straight line at a (relativistic)\n",
    "speed $v$ to another planet $x$ light years away. Write a program to ask\n",
    "the user for the value of $x$ and the speed $v$ as a fraction of the speed\n",
    "of light, then print out the time in years that the spaceship takes to\n",
    "reach its destination (a) in the rest frame of an observer on Earth\n",
    "and (b) as perceived by a passenger on board the ship.\n",
    "\n",
    "$$x' = \\gamma (x - vt)$$\n",
    "\n",
    "$$t' = \\gamma \\left(t - \\frac{v x}{c^2}\\right)$$\n",
    "\n",
    "$$\\gamma = \\frac{1}{\\sqrt{1 - \\frac{v^2}{c^2}}}$$\n"
   ]
  },
  {
   "cell_type": "code",
   "execution_count": 42,
   "metadata": {},
   "outputs": [
    {
     "name": "stdout",
     "output_type": "stream",
     "text": [
      "Distance of spaceship from the planet (light years): 10\n",
      "Speed at which the spaceship is travelling at (in terms of speed of light): 0.999\n",
      "the rest frame of an observer on Earth:  10.01001001001001 years\n",
      "as perceived by a passenger on board the ship:  0.44754932744960974 years\n"
     ]
    }
   ],
   "source": [
    "import numpy as np\n",
    "import math \n",
    "\n",
    "\n",
    "x = float(input(\"Distance of spaceship from the planet (light years): \"))\n",
    "v = float(input(\"Speed at which the spaceship is travelling at (in terms of speed of light): \"))\n",
    "\n",
    "g =1/ (1-((vel**2)/(c**2)))**(1/2)\n",
    "t = x/v # rest frame of observer\n",
    "t_p = t * (np.sqrt(1-(v**2))) # perceived by a passenger on board the ship\n",
    "\n",
    "print (\"the rest frame of an observer on Earth: \",t, \"years\")\n",
    "print (\"as perceived by a passenger on board the ship: \",t_p, \"years\")\n"
   ]
  },
  {
   "cell_type": "markdown",
   "metadata": {},
   "source": [
    "Use your program to calculate the answers for a planet 10 light years away with $v = 0.90c$,  $v = 0.98c$, $v = 0.999c$."
   ]
  },
  {
   "cell_type": "code",
   "execution_count": 38,
   "metadata": {},
   "outputs": [],
   "source": [
    "#1. \n",
    "#Distance of spaceship from the planet (light years): 10\n",
    "#Speed at which the spaceship is travelling at (in terms of speed of light): 0.90\n",
    "#the rest frame of an observer on Earth:  11.11111111111111 years\n",
    "#as perceived by a passenger on board the ship:  4.843221048378525 years\n",
    "\n",
    "\n",
    "#2. \n",
    "#Distance of spaceship from the planet (light years): 10\n",
    "#Speed at which the spaceship is travelling at (in terms of speed of light): 0.98\n",
    "#the rest frame of an observer on Earth:  10.204081632653061 years\n",
    "#as perceived by a passenger on board the ship:  2.0305866063400426 years\n",
    "\n",
    "\n",
    "#3.\n",
    "#Distance of spaceship from the planet (light years): 10\n",
    "#Speed at which the spaceship is travelling at (in terms of speed of light): 0.999\n",
    "#the rest frame of an observer on Earth:  10.01001001001001 years\n",
    "#as perceived by a passenger on board the ship:  0.44754932744960974 years"
   ]
  },
  {
   "cell_type": "markdown",
   "metadata": {},
   "source": [
    "### 3) The quadratic equation\n",
    "\n",
    " Write a program that takes as input three numbers, $a$, $b$, and $c$, and prints out the two solutions to the quadratic equation $ax^2 + bx + c = 0$ using the standard\n",
    "formula:\n",
    "\n",
    "$$x = \\frac{-b \\pm \\sqrt{b^2 - 4ac}}{2a}$$\n",
    "\n",
    "Use your program to compute the solutions of $0.001x^2 + 1000x + 0.001 = 0$."
   ]
  },
  {
   "cell_type": "code",
   "execution_count": 41,
   "metadata": {
    "scrolled": true
   },
   "outputs": [
    {
     "name": "stdout",
     "output_type": "stream",
     "text": [
      "a: 0.001\n",
      "b: 1000\n",
      "c: 0.001\n",
      "x value =  -9.999894245993346e-07\n",
      "x value =  -999999.999999\n"
     ]
    }
   ],
   "source": [
    "import numpy as np \n",
    "a=float(input(\"a: \"))\n",
    "b=float(input(\"b: \"))\n",
    "c=float(input(\"c: \"))\n",
    "\n",
    "x_1 = ((-b)+(np.sqrt(b**2-4*a*c)))/(2*a) \n",
    "x_2 = ((-b)-(np.sqrt(b**2-4*a*c)))/(2*a)\n",
    "       \n",
    "print (\"x value = \" ,x_1)\n",
    "print (\"x value = \", x_2)"
   ]
  },
  {
   "cell_type": "markdown",
   "metadata": {},
   "source": [
    "There is another way to write the solutions to a quadratic equation. Multiplying top and bottom of the solution above by $-b \\mp \\sqrt{b^2 - 4ac}$, show that the solutions\n",
    "can also be written as:\n",
    "\n",
    "$$x = \\frac{2c}{-b \\mp \\sqrt{b^2 - 4ac}}$$\n",
    "\n",
    "Add further lines to your program to print these values in addition to the earlier ones and again use the program to solve $0.001x^2 + 1000x + 0.001 = 0$. What do you see? How do you explain it?"
   ]
  },
  {
   "cell_type": "code",
   "execution_count": 49,
   "metadata": {},
   "outputs": [
    {
     "name": "stdout",
     "output_type": "stream",
     "text": [
      "a: 0.001\n",
      "b: 1000\n",
      "c: 0.001\n",
      "x value =  -1000010.5755125057\n",
      "x value =  -1.000000000001e-06\n"
     ]
    }
   ],
   "source": [
    "import numpy as np \n",
    "a=float(input(\"a: \"))\n",
    "b=float(input(\"b: \"))\n",
    "c=float(input(\"c: \"))\n",
    "\n",
    "x_1 = (2*c)/((-b)+(np.sqrt((b**2)-(4*a*c))))\n",
    "x_2 = (2*c)/((-b)-(np.sqrt((b**2)-(4*a*c))))\n",
    "       \n",
    "print (\"x value = \" ,x_1)\n",
    "print (\"x value = \", x_2)"
   ]
  },
  {
   "cell_type": "markdown",
   "metadata": {},
   "source": [
    "Using what you have learned, write a new program that calculates both roots of a quadratic equation accurately in all cases."
   ]
  },
  {
   "cell_type": "code",
   "execution_count": null,
   "metadata": {},
   "outputs": [],
   "source": [
    "import numpy as np\n",
    "\n",
    "a = float(input(\"x^2: \"))\n",
    "b = float(input(\"x: \"))\n",
    "c = float(input(\"y intercept: \"))\n",
    "\n",
    "# first equation\n",
    "x1 = (-b+(np.sqrt(((b**(2))-(4*a*c)))))/(2*a)\n",
    "x2 = (-b-(np.sqrt(((b**(2))-(4*a*c)))))/(2*a)\n",
    "\n",
    "# second equation\n",
    "x3 = ((2*c)/(-b - np.sqrt(((b**(2))-(4*a*c)))))\n",
    "x4 = ((2*c)/ (-b + np.sqrt(((b**(2))-(4*a*c)))))\n",
    "\n",
    "def eq(x):\n",
    "    return a*(x**(2))+b*(x)+c\n",
    "\n",
    "def close(x_1, x_2):\n",
    "    if abs(eq(x_1))<=abs(eq(x_2)):\n",
    "        return x_1\n",
    "    else:\n",
    "        return x_2\n",
    "\n",
    "print (\"Quadratic Equation:\",a,\"x^2\",b,\"x\",c)\n",
    "print(\"x values:\",close(x1, x3), close(x2, x4))  "
   ]
  },
  {
   "cell_type": "code",
   "execution_count": null,
   "metadata": {},
   "outputs": [],
   "source": []
  }
 ],
 "metadata": {
  "kernelspec": {
   "display_name": "Python 3 (ipykernel)",
   "language": "python",
   "name": "python3"
  },
  "language_info": {
   "codemirror_mode": {
    "name": "ipython",
    "version": 3
   },
   "file_extension": ".py",
   "mimetype": "text/x-python",
   "name": "python",
   "nbconvert_exporter": "python",
   "pygments_lexer": "ipython3",
   "version": "3.9.12"
  }
 },
 "nbformat": 4,
 "nbformat_minor": 4
}
